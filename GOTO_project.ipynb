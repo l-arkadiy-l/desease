{
  "cells": [
    {
      "cell_type": "markdown",
      "metadata": {
        "id": "view-in-github",
        "colab_type": "text"
      },
      "source": [
        "<a href=\"https://colab.research.google.com/github/l-arkadiy-l/desease/blob/main/GOTO_project.ipynb\" target=\"_parent\"><img src=\"https://colab.research.google.com/assets/colab-badge.svg\" alt=\"Open In Colab\"/></a>"
      ]
    },
    {
      "cell_type": "code",
      "execution_count": 1,
      "metadata": {
        "colab": {
          "base_uri": "https://localhost:8080/",
          "height": 91,
          "resources": {
            "http://localhost:8080/nbextensions/google.colab/files.js": {
              "data": "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",
              "headers": [
                [
                  "content-type",
                  "application/javascript"
                ]
              ],
              "ok": true,
              "status": 200,
              "status_text": ""
            }
          }
        },
        "id": "u5lDhIxWIKIt",
        "outputId": "aff8f038-e32a-4997-f73b-059f556784a4"
      },
      "outputs": [
        {
          "output_type": "display_data",
          "data": {
            "text/plain": [
              "<IPython.core.display.HTML object>"
            ],
            "text/html": [
              "\n",
              "     <input type=\"file\" id=\"files-800c84ca-77bf-436d-a43d-7e26d77e98fd\" name=\"files[]\" multiple disabled\n",
              "        style=\"border:none\" />\n",
              "     <output id=\"result-800c84ca-77bf-436d-a43d-7e26d77e98fd\">\n",
              "      Upload widget is only available when the cell has been executed in the\n",
              "      current browser session. Please rerun this cell to enable.\n",
              "      </output>\n",
              "      <script src=\"/nbextensions/google.colab/files.js\"></script> "
            ]
          },
          "metadata": {}
        },
        {
          "output_type": "stream",
          "name": "stdout",
          "text": [
            "Saving kaggle.json to kaggle.json\n"
          ]
        },
        {
          "output_type": "execute_result",
          "data": {
            "text/plain": [
              "{'kaggle.json': b'{\"username\":\"arkadiykleymenov\",\"key\":\"d14784414ee7bcd4fdaafa6cfd337d81\"}'}"
            ]
          },
          "metadata": {},
          "execution_count": 1
        }
      ],
      "source": [
        "from google.colab import files\n",
        "files.upload()"
      ]
    },
    {
      "cell_type": "code",
      "execution_count": 2,
      "metadata": {
        "id": "EtQ3nGz_xptx",
        "colab": {
          "base_uri": "https://localhost:8080/"
        },
        "outputId": "92995cc2-2e6c-48e0-a5c9-ec147895d9d6"
      },
      "outputs": [
        {
          "output_type": "stream",
          "name": "stdout",
          "text": [
            "Requirement already satisfied: kaggle in /usr/local/lib/python3.7/dist-packages (1.5.12)\n",
            "Requirement already satisfied: six>=1.10 in /usr/local/lib/python3.7/dist-packages (from kaggle) (1.15.0)\n",
            "Requirement already satisfied: requests in /usr/local/lib/python3.7/dist-packages (from kaggle) (2.23.0)\n",
            "Requirement already satisfied: certifi in /usr/local/lib/python3.7/dist-packages (from kaggle) (2021.10.8)\n",
            "Requirement already satisfied: tqdm in /usr/local/lib/python3.7/dist-packages (from kaggle) (4.64.0)\n",
            "Requirement already satisfied: python-slugify in /usr/local/lib/python3.7/dist-packages (from kaggle) (6.1.2)\n",
            "Requirement already satisfied: urllib3 in /usr/local/lib/python3.7/dist-packages (from kaggle) (1.24.3)\n",
            "Requirement already satisfied: python-dateutil in /usr/local/lib/python3.7/dist-packages (from kaggle) (2.8.2)\n",
            "Requirement already satisfied: text-unidecode>=1.3 in /usr/local/lib/python3.7/dist-packages (from python-slugify->kaggle) (1.3)\n",
            "Requirement already satisfied: chardet<4,>=3.0.2 in /usr/local/lib/python3.7/dist-packages (from requests->kaggle) (3.0.4)\n",
            "Requirement already satisfied: idna<3,>=2.5 in /usr/local/lib/python3.7/dist-packages (from requests->kaggle) (2.10)\n"
          ]
        }
      ],
      "source": [
        "!pip install kaggle"
      ]
    },
    {
      "cell_type": "code",
      "execution_count": 3,
      "metadata": {
        "id": "VxxnMGK1xx6k"
      },
      "outputs": [],
      "source": [
        "!mkdir -p ~/.kaggle\n",
        "!cp kaggle.json ~/.kaggle/"
      ]
    },
    {
      "cell_type": "code",
      "execution_count": 4,
      "metadata": {
        "id": "OqfjPYuBx5JV",
        "colab": {
          "base_uri": "https://localhost:8080/"
        },
        "outputId": "84f9b7a4-d50c-45d8-f06e-cd15a045bfe4"
      },
      "outputs": [
        {
          "output_type": "stream",
          "name": "stdout",
          "text": [
            "Warning: Your Kaggle API key is readable by other users on this system! To fix this, you can run 'chmod 600 /root/.kaggle/kaggle.json'\n",
            "ref                                                                            title                                             size  lastUpdated          downloadCount  voteCount  usabilityRating  \n",
            "-----------------------------------------------------------------------------  -----------------------------------------------  -----  -------------------  -------------  ---------  ---------------  \n",
            "datasets/muratkokludataset/acoustic-extinguisher-fire-dataset                  Acoustic Extinguisher Fire Dataset               621KB  2022-04-02 22:59:36            853        639  0.9375           \n",
            "datasets/muratkokludataset/rice-image-dataset                                  Rice Image Dataset                               219MB  2022-04-03 02:12:00            869        591  0.875            \n",
            "datasets/mdmahmudulhasansuzan/students-adaptability-level-in-online-education  Students Adaptability Level in Online Education    6KB  2022-04-16 04:46:28           3353         82  1.0              \n",
            "datasets/muratkokludataset/raisin-dataset                                      Raisin Dataset                                   112KB  2022-04-03 00:23:16            371        517  0.9375           \n",
            "datasets/muratkokludataset/pistachio-dataset                                   Pistachio Dataset                                  2MB  2022-04-03 08:38:21            463        539  0.9375           \n",
            "datasets/muratkokludataset/dry-bean-dataset                                    Dry Bean Dataset                                   5MB  2022-04-02 23:19:30            287        520  0.9375           \n",
            "datasets/muratkokludataset/pistachio-image-dataset                             Pistachio Image Dataset                           27MB  2022-03-28 18:01:27            323        577  0.9375           \n",
            "datasets/muratkokludataset/grapevine-leaves-image-dataset                      Grapevine Leaves Image Dataset                   109MB  2022-04-03 09:00:54            108        549  0.875            \n",
            "datasets/muratkokludataset/rice-msc-dataset                                    Rice MSC Dataset                                 102MB  2022-04-03 01:33:52            162        511  0.875            \n",
            "datasets/muratkokludataset/pumpkin-seeds-dataset                               Pumpkin Seeds Dataset                            393KB  2022-03-28 18:28:16            367        516  0.9375           \n",
            "datasets/muratkokludataset/durum-wheat-dataset                                 Durum Wheat Dataset                              983MB  2022-04-03 00:02:29             66        524  0.875            \n",
            "datasets/muratkokludataset/rice-dataset-commeo-and-osmancik                    Rice Dataset Commeo and Osmancik                 524KB  2022-04-03 00:40:03             81        503  0.875            \n",
            "datasets/muhmores/spotify-top-100-songs-of-20152019                            Spotify Top 100 Songs of 2010-2019               139KB  2022-04-09 06:35:36           4018         89  0.88235295       \n",
            "datasets/rinichristy/covid19-coronavirus-pandemic                              COVID-19 Coronavirus Pandemic                      9KB  2022-04-05 08:43:16           2552         53  1.0              \n",
            "datasets/aslanahmedov/walmart-sales-forecast                                   Walmart Sales Forecast                             3MB  2022-04-21 05:28:20           1650         51  1.0              \n",
            "datasets/digvijaysinhgohil/covid19-data-deaths-and-vaccinations                Covid-19 Data Deaths and Vaccinations              2MB  2022-05-04 19:06:58            293         16  0.9411765        \n",
            "datasets/alexandrparkhomenko/top-apps-in-google-play                           Top Apps in Google Play                            3KB  2022-04-29 05:16:34            679         32  1.0              \n",
            "datasets/samuelcortinhas/credit-card-approval-clean-data                       Credit Card Approvals (Clean Data)                19KB  2022-04-25 15:52:35           1259         35  1.0              \n",
            "datasets/awsaf49/uwmgi-mask-dataset                                            UWMGI: Mask Dataset                               77MB  2022-04-24 17:46:47            476         36  0.7647059        \n",
            "datasets/xhlulu/cpc-codes                                                      Cooperative Patent Classification Codes Meaning    5MB  2022-03-22 03:04:36           1682        121  1.0              \n"
          ]
        }
      ],
      "source": [
        "!kaggle datasets list"
      ]
    },
    {
      "cell_type": "code",
      "execution_count": 5,
      "metadata": {
        "id": "WnrfpEoLtESN"
      },
      "outputs": [],
      "source": [
        "!chmod 600 ~/.kaggle/kaggle.json\n"
      ]
    },
    {
      "cell_type": "code",
      "execution_count": 6,
      "metadata": {
        "id": "O48q3knu6EZp"
      },
      "outputs": [],
      "source": [
        "import kaggle\n",
        "from kaggle.api.kaggle_api_extended import KaggleApi\n",
        "api = KaggleApi()\n",
        "api.authenticate()\n",
        "api.dataset_download_files('kmader/skin-cancer-mnist-ham10000', 'HAM10000_images_part_2')"
      ]
    },
    {
      "cell_type": "code",
      "execution_count": 7,
      "metadata": {
        "id": "YGH9rskHts3y"
      },
      "outputs": [],
      "source": [
        "import zipfile\n",
        "path_to_zip_file = '/content/HAM10000_images_part_1/skin-cancer-mnist-ham10000.zip'\n",
        "with zipfile.ZipFile('/content/HAM10000_images_part_2/skin-cancer-mnist-ham10000.zip', 'r') as z:\n",
        "    z.extractall('/content/HAM10000_images_part_1')"
      ]
    },
    {
      "cell_type": "code",
      "execution_count": 3,
      "metadata": {
        "id": "EcaZ3VuR-fSj"
      },
      "outputs": [],
      "source": [
        "# ----- start coding\n",
        "import pandas as pd\n",
        "from torch import nn\n",
        "from torch.utils.data import Dataset, DataLoader\n",
        "import torch\n",
        "from sklearn.model_selection import train_test_split\n",
        "from torch import optim"
      ]
    },
    {
      "cell_type": "code",
      "execution_count": 4,
      "metadata": {
        "id": "Yk5zBvQ9-nqG"
      },
      "outputs": [],
      "source": [
        "name_folder = '/content/HAM10000_images_part_1'\n",
        "data = pd.read_csv(f'{name_folder}/HAM10000_metadata.csv')\n",
        "data = data.head(data.size)\n",
        "dict_sex = {\n",
        "    'male': 0, \n",
        "    'female': 1\n",
        "}\n",
        "dict_disease = {\n",
        "    'mel': 0, \n",
        "    'bkl': 1, \n",
        "    'df': 2, \n",
        "    'nv': 3, \n",
        "    'bcc': 4, \n",
        "    'vasc': 5, \n",
        "    'akiec': 6\n",
        "    }\n",
        "dict_type = {\n",
        "    'follow_up': 0,\n",
        "    'consensus': 1, \n",
        "    'confocal': 2, \n",
        "    'histo': 3\n",
        "}\n",
        "\n",
        "dict_localization = {\n",
        "    'back': 0, \n",
        "    'ear': 1, \n",
        "    'scalp': 2, \n",
        "    'lower extremity': 3, \n",
        "    'hand': 4, \n",
        "    'foot': 5, \n",
        "    'acral': 6, \n",
        "    'chest': 7, \n",
        "    'trunk': 8,\n",
        "    'genital': 9, \n",
        "    'neck': 10,\n",
        "    'abdomen': 11,\n",
        "    'upper extremity': 12, \n",
        "    'face': 14\n",
        "}\n",
        "\n",
        "for j in data.iterrows():\n",
        "    # print(j[1]['sex'], j[1]['image_id'], data[data['image_id'] == j[1]['image_id']])\n",
        "    # img = Image.open(f\"/HAM10000_images/{j[1][1]}.jpg\")\n",
        "    try:\n",
        "        data.at[j[0], 'sex'] = dict_sex[j[1]['sex']]\n",
        "        data.at[j[0], 'dx'] = dict_disease[j[1]['dx']]\n",
        "        data.at[j[0], 'dx_type'] = dict_type[j[1]['dx_type']]\n",
        "        data.at[j[0], 'localization'] = dict_localization[j[1]['localization']]\n",
        "        # print(data[data['image_id'] == j[1]['image_id']])\n",
        "    except KeyError:\n",
        "        # print('unknow')\n",
        "        data[data['image_id'] == j[1]['image_id']] = ''\n",
        "        pass\n",
        "data.to_csv(f'{name_folder}/test.csv', index=False)\n"
      ]
    },
    {
      "cell_type": "code",
      "execution_count": 10,
      "metadata": {
        "id": "OWhByYDHGmt8"
      },
      "outputs": [],
      "source": [
        "img_width, img_height = (600, 450)"
      ]
    },
    {
      "cell_type": "code",
      "execution_count": 5,
      "metadata": {
        "colab": {
          "base_uri": "https://localhost:8080/"
        },
        "id": "SQFVnPeb1IEM",
        "outputId": "1bd840d5-27e0-4a65-c943-51db606e4e93"
      },
      "outputs": [
        {
          "output_type": "stream",
          "name": "stdout",
          "text": [
            "tensor([[228, 158, 161,  ..., 211, 147, 153],\n",
            "        [227, 146, 141,  ..., 216, 148, 133],\n",
            "        [176, 125, 133,  ..., 150, 101, 108],\n",
            "        ...,\n",
            "        [174, 164, 189,  ..., 156, 130, 150],\n",
            "        [111,  90, 100,  ..., 115,  93, 106],\n",
            "        [  0,   0,   0,  ...,   0,   0,   0]]) tensor([4, 4, 0,  ..., 2, 4, 6])\n"
          ]
        }
      ],
      "source": [
        "data = pd.read_csv(f'{name_folder}/hmnist_28_28_RGB.csv')\n",
        "x = torch.from_numpy(data.values)[:, :-1]\n",
        "y = torch.from_numpy(data.values)[:, -1]\n",
        "x_train, x_test, y_train, y_test = train_test_split(x, y)\n",
        "dataset = torch.utils.data.TensorDataset(x_train, y_train)\n",
        "data_loader = torch.utils.data.DataLoader(dataset, batch_size=128, shuffle=True)\n",
        "\n",
        "testset = torch.utils.data.TensorDataset(x_test, y_test)\n",
        "test_loader = torch.utils.data.DataLoader(testset, batch_size=128, shuffle=True)\n",
        "# print(torch.utils.data.TensorDataset())\n",
        "print(x_train, y_train)\n"
      ]
    },
    {
      "cell_type": "code",
      "execution_count": 6,
      "metadata": {
        "colab": {
          "base_uri": "https://localhost:8080/"
        },
        "id": "3-fM6QeXEugM",
        "outputId": "a5ab7d6a-3e91-4cf4-cb09-2d49d11028a4"
      },
      "outputs": [
        {
          "output_type": "stream",
          "name": "stdout",
          "text": [
            "Training Loss: 33.8429978116084\n",
            "Training Loss: 1.8937647019402455\n",
            "Training Loss: 1.8431611727860013\n",
            "Training Loss: 1.8118524935285925\n",
            "Training Loss: 1.7448823977324923\n",
            "Training Loss: 1.698273054624008\n",
            "Training Loss: 1.65338717072697\n",
            "Training Loss: 1.611165483119124\n",
            "Training Loss: 1.5707302012686002\n",
            "Training Loss: 1.533292956271414\n",
            "Training Loss: 1.4974465653047724\n"
          ]
        }
      ],
      "source": [
        "\n",
        "model = nn.Sequential(\n",
        "    nn.Conv2d(3, 64, 3, 1),\n",
        "    nn.GELU(),\n",
        "    nn.Conv2d(64, 128, 3, 1), \n",
        "    nn.GELU(),\n",
        "    nn.Conv2d(128, 256, 3, 1),\n",
        "    nn.GELU(),\n",
        "    nn.Flatten(),\n",
        "    nn.Linear(123904, 7),\n",
        "    nn.LogSoftmax(dim=1)\n",
        ")\n",
        "model = model.cuda()\n",
        "criterion = nn.NLLLoss()\n",
        "optimizer = optim.Adam(model.parameters(), lr=0.001)\n",
        "epochs = 11\n",
        "for i in range(epochs):\n",
        "  running_loss = 0\n",
        "  for images, labels in data_loader:\n",
        "    \n",
        "    images = images.reshape(-1, 3, 28, 28).type(torch.cuda.FloatTensor).cuda()\n",
        "    labels = labels.cuda()\n",
        "    loss = criterion(model(images), labels)\n",
        "    loss.backward()\n",
        "    optimizer.step()\n",
        "    optimizer.zero_grad()\n",
        "    running_loss += loss.item()\n",
        "  print(f'Training Loss: {running_loss / len(data_loader)}')\n"
      ]
    },
    {
      "cell_type": "code",
      "execution_count": 13,
      "metadata": {
        "id": "MAkFGeH9Sfm4",
        "colab": {
          "base_uri": "https://localhost:8080/"
        },
        "outputId": "09a8ab97-cd9a-47d3-a615-b785dec8406a"
      },
      "outputs": [
        {
          "output_type": "execute_result",
          "data": {
            "text/plain": [
              "204624"
            ]
          },
          "metadata": {},
          "execution_count": 13
        }
      ],
      "source": [
        "87*3*28**2"
      ]
    },
    {
      "cell_type": "code",
      "execution_count": 13,
      "metadata": {
        "id": "o-YrdSuHdfxz"
      },
      "outputs": [],
      "source": [
        ""
      ]
    },
    {
      "cell_type": "code",
      "execution_count": 7,
      "metadata": {
        "id": "KD2bCrILEHjz"
      },
      "outputs": [],
      "source": [
        "for images, labels in data_loader:\n",
        "  a = images.cpu().numpy()\n",
        "  a = a.view().reshape(-1,  28, 28, 3)\n",
        "#   print(a)\n",
        "#   # break\n",
        "# print(a)"
      ]
    },
    {
      "cell_type": "code",
      "execution_count": 8,
      "metadata": {
        "id": "cGj-chSlIePW",
        "colab": {
          "base_uri": "https://localhost:8080/",
          "height": 282
        },
        "outputId": "06585e4e-f2ec-4776-846e-bb64556227cb"
      },
      "outputs": [
        {
          "output_type": "execute_result",
          "data": {
            "text/plain": [
              "<matplotlib.image.AxesImage at 0x7efc9dc56e50>"
            ]
          },
          "metadata": {},
          "execution_count": 8
        },
        {
          "output_type": "display_data",
          "data": {
            "text/plain": [
              "<Figure size 432x288 with 1 Axes>"
            ],
            "image/png": "[encoded data removed]"
          },
          "metadata": {
            "needs_background": "light"
          }
        }
      ],
      "source": [
        "from matplotlib import pyplot as plt\n",
        "plt.imshow(a[3])"
      ]
    },
    {
      "cell_type": "code",
      "execution_count": 65,
      "metadata": {
        "id": "9JSv97__nkCs"
      },
      "outputs": [],
      "source": [
        "dict_labels = {0: '(akiec)', 1: '(bcc)', 2: '(bkl)', 3: 'dermatofibroma (df)', 4:'melanoma (mel)', 5: 'melanocytic nevi (nv)', 6: 'vascular lesions (angiomas, angiokeratomas, pyogenic granulomas and hemorrhage, vasc)', 7: ''}\n"
      ]
    },
    {
      "cell_type": "code",
      "execution_count": 10,
      "metadata": {
        "id": "EXku6-3sUvjH"
      },
      "outputs": [],
      "source": [
        "import torch\n",
        "def calc_accuracy(output, labels):\n",
        "  dict_cnt = {i : 0 for i in range(7)}\n",
        "  ans_labels = torch.argmax(output, dim=1) # ans_labesl = pred_labels = y с крышкой\n",
        "  coincidence = labels.cuda() == ans_labels.cuda()\n",
        "  coincidence = coincidence.type(torch.cuda.FloatTensor) # from bool to float\n",
        "  tm = torch.mean(coincidence)\n",
        "  return [tm, ans_labels]"
      ]
    },
    {
      "cell_type": "code",
      "execution_count": 77,
      "metadata": {
        "colab": {
          "base_uri": "https://localhost:8080/",
          "height": 265
        },
        "id": "oJxi8K4LTZaK",
        "outputId": "4fdf37c9-52cc-4179-cc8a-b40c66e47149"
      },
      "outputs": [
        {
          "output_type": "display_data",
          "data": {
            "text/plain": [
              "<Figure size 432x288 with 1 Axes>"
            ],
            "image/png": "[encoded data removed]"
          },
          "metadata": {
            "needs_background": "light"
          }
        }
      ],
      "source": [
        "from matplotlib import pyplot as plt\n",
        "from time import sleep\n",
        "dataiter = iter(data_loader)\n",
        "# print(images.shape)\n",
        "output = model(images.reshape(-1, 3, 28, 28).type(torch.cuda.FloatTensor).cuda())\n",
        "for i in range(2):\n",
        "  images, labels = dataiter.next() # бач картинок и ответов (меток)\n",
        "  avarage_value, predicts = calc_accuracy(output, labels.cuda())\n",
        "  images.reshape(-1, 28, 28, 3)\n",
        "  desease = dict_labels[int((predicts[j].cpu()).numpy())]\n",
        "  plt.imshow(images[j].reshape(28, 28, 3))\n",
        "  plt.text(.96,.94,\"{}\\naccuracy: {:.2f}\".format(desease, avarage_value), bbox={'facecolor':'w','pad':5},\n",
        "         ha=\"right\", va=\"top\", transform=plt.gca().transAxes )\n",
        "\n",
        "\n"
      ]
    }
  ],
  "metadata": {
    "accelerator": "GPU",
    "colab": {
      "collapsed_sections": [],
      "name": "GOTO project.ipynb",
      "provenance": [],
      "mount_file_id": "17HpQhN0oPQNrabMaZEsZxs-U3JDWFEil",
      "authorship_tag": "ABX9TyPrKAUZ28FDOk/YCWdy1sV+",
      "include_colab_link": true
    },
    "kernelspec": {
      "display_name": "Python 3",
      "name": "python3"
    },
    "language_info": {
      "name": "python"
    }
  },
  "nbformat": 4,
  "nbformat_minor": 0
}